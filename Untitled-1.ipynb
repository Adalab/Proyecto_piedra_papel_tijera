{
 "cells": [
  {
   "cell_type": "markdown",
   "metadata": {},
   "source": [
    "PROYECTO PIEDRA - PAPEL - TIJERA"
   ]
  },
  {
   "cell_type": "markdown",
   "metadata": {},
   "source": [
    "1. Comienza por definir el número de puntos objetivo que se deben alcanzar para ganar el juego.\n",
    "\n",
    "2. Implementa una función que obtenga la elección del jugador y valide que sea una de las opciones válidas (\"Piedra\", \"Papel\" o \"Tijera\").\n",
    "\n",
    "3. Utiliza un bucle `while` para llevar un registro de los puntos de cada jugador y continuar el juego hasta que se alcance el número de puntos objetivo.\n",
    "\n",
    "4. Genera una elección aleatoria para el segundo jugador (la computadora) utilizando el módulo `random`.\n",
    "\n",
    "5. Determina al ganador de cada ronda y actualiza los puntos correspondientes.\n",
    "\n",
    "6. Verifica si algún jugador ha alcanzado el número de puntos objetivo y finalicen el juego cuando eso suceda."
   ]
  },
  {
   "cell_type": "code",
   "execution_count": 31,
   "metadata": {},
   "outputs": [],
   "source": [
    "import random\n",
    "\n",
    "def jugarjuego():\n",
    "    puntos_finales = 3\n",
    "    puntos_jugador1 = 0\n",
    "    puntos_ordenador = 0 \n",
    "    \n",
    "    opciones = ['piedra', 'papel', 'tijera']\n",
    "    reglas = [('piedra' , 'tijera'), ('tijera' , 'papel'), ('papel', 'piedra')]\n",
    "\n",
    "    while puntos_ordenador < puntos_finales and puntos_ordenador < puntos_ordenador:\n",
    "        print(f\"puntuación -> jugador: {puntos_jugador1} | ordenador: {puntos_ordenador}\")\n",
    "\n",
    "    while True:\n",
    "        eleccion_jugador1 = input('Haz tu elección: piedra, papel o tijera: ').lower()\n",
    "        if eleccion_jugador1 in opciones: \n",
    "            break\n",
    "        \n",
    "        else:\n",
    "            print('la elección no es correcta, vuelve a elegir')\n",
    "    \n",
    "    eleccion_ordenador = random.choice(opciones)\n",
    "    \n",
    "\n",
    "    \n",
    "    print(f\"El jugador ha elegido: {eleccion_jugador1}\")\n",
    "    print(f\"El ordenador ha elegido: {eleccion_ordenador}\")\n",
    "\n",
    "\n",
    "    if eleccion_jugador1 == eleccion_ordenador:\n",
    "        return 'EMPATE'\n",
    "        \n",
    "    elif eleccion_jugador1 == eleccion_jugador1:\n",
    "        print(\"¡Ganas esta ronda!\")\n",
    "        puntos_jugador1 += 1\n",
    "    \n",
    "    else:\n",
    "        puntos_ordenador += 1\n",
    "        return \"Esta ronda la gana la máquina\"\n",
    "    \n",
    "    if puntos_jugador1 == puntos_finales:\n",
    "        print (\"¡Enhorabuena! ¡Has ganado el juego!\")\n",
    "\n",
    "    else:\n",
    "        print('Tu vida es una caca, te ganan hasta las máquinas')\n"
   ]
  },
  {
   "cell_type": "code",
   "execution_count": 32,
   "metadata": {},
   "outputs": [
    {
     "name": "stdout",
     "output_type": "stream",
     "text": [
      "El jugador ha elegido: piedra\n",
      "El ordenador ha elegido: piedra\n"
     ]
    },
    {
     "data": {
      "text/plain": [
       "'EMPATE'"
      ]
     },
     "execution_count": 32,
     "metadata": {},
     "output_type": "execute_result"
    }
   ],
   "source": [
    "jugarjuego()"
   ]
  }
 ],
 "metadata": {
  "kernelspec": {
   "display_name": "base",
   "language": "python",
   "name": "python3"
  },
  "language_info": {
   "codemirror_mode": {
    "name": "ipython",
    "version": 3
   },
   "file_extension": ".py",
   "mimetype": "text/x-python",
   "name": "python",
   "nbconvert_exporter": "python",
   "pygments_lexer": "ipython3",
   "version": "3.12.4"
  }
 },
 "nbformat": 4,
 "nbformat_minor": 2
}
