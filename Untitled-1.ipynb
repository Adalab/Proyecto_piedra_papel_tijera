{
 "cells": [
  {
   "cell_type": "markdown",
   "metadata": {},
   "source": [
    "PROYECTO PIEDRA - PAPEL - TIJERA"
   ]
  },
  {
   "cell_type": "markdown",
   "metadata": {},
   "source": [
    "1. Comienza por definir el número de puntos objetivo que se deben alcanzar para ganar el juego.\n",
    "\n",
    "2. Implementa una función que obtenga la elección del jugador y valide que sea una de las opciones válidas (\"Piedra\", \"Papel\" o \"Tijera\").\n",
    "\n",
    "3. Utiliza un bucle `while` para llevar un registro de los puntos de cada jugador y continuar el juego hasta que se alcance el número de puntos objetivo.\n",
    "\n",
    "4. Genera una elección aleatoria para el segundo jugador (la computadora) utilizando el módulo `random`.\n",
    "\n",
    "5. Determina al ganador de cada ronda y actualiza los puntos correspondientes.\n",
    "\n",
    "6. Verifica si algún jugador ha alcanzado el número de puntos objetivo y finalicen el juego cuando eso suceda."
   ]
  },
  {
   "cell_type": "code",
   "execution_count": 56,
   "metadata": {},
   "outputs": [],
   "source": [
    "import random\n",
    "\n",
    "def jugarjuego():\n",
    "    puntos_finales = 3\n",
    "    puntos_jugador1 = 0\n",
    "    puntos_ordenador = 0\n",
    "    reglas = {\"piedra\": \"tijera\", \"tijera\": \"papel\", \"papel\": \"piedra\"}\n",
    "\n",
    "    while puntos_ordenador < puntos_finales and puntos_ordenador < puntos_finales:\n",
    "            print(f\"Puntuación -> Jugador: {puntos_jugador1} | Ordenador: {puntos_ordenador}\")\n",
    "\n",
    "            while True: \n",
    "                eleccion_jugador = input('Haz tu elección: Piedra, Papel o Tijera: ').lower()\n",
    "                if eleccion_jugador in reglas:\n",
    "                    break\n",
    "                else: \n",
    "                    print('La elección no es correcta, vuelve a elegir')\n",
    "    \n",
    "            eleccion_ordenador = random.choice(list(reglas.keys()))\n",
    "    \n",
    "            print(f\"El jugador ha elegido: {eleccion_jugador}\")\n",
    "            print(f\"El ordenador ha elegido: {eleccion_ordenador}\")\n",
    "\n",
    "            if eleccion_jugador == eleccion_ordenador:\n",
    "                print('EMPATE')\n",
    "            elif reglas[eleccion_jugador] == eleccion_ordenador:\n",
    "                print(\"¡Ganas esta ronda!\")\n",
    "                puntos_jugador1 += 1\n",
    "            else:\n",
    "                puntos_ordenador += 1\n",
    "                print ('Esta ronda la gana la máquina!')\n",
    "\n",
    "    if puntos_jugador1 == puntos_finales:\n",
    "        print(\"¡ENHORABUENA! ¡Has ganado el juego!\")\n",
    "    else:\n",
    "        print('Tu vida es una caca te ganan hasta las máquinas :(')"
   ]
  },
  {
   "cell_type": "code",
   "execution_count": 57,
   "metadata": {},
   "outputs": [
    {
     "name": "stdout",
     "output_type": "stream",
     "text": [
      "Puntuación -> Jugador: 0 | Ordenador: 0\n",
      "El jugador ha elegido: piedra\n",
      "El ordenador ha elegido: papel\n",
      "Esta ronda la gana la máquina!\n",
      "Puntuación -> Jugador: 0 | Ordenador: 1\n",
      "El jugador ha elegido: papel\n",
      "El ordenador ha elegido: papel\n",
      "EMPATE\n",
      "Puntuación -> Jugador: 0 | Ordenador: 1\n",
      "El jugador ha elegido: tijera\n",
      "El ordenador ha elegido: piedra\n",
      "Esta ronda la gana la máquina!\n",
      "Puntuación -> Jugador: 0 | Ordenador: 2\n"
     ]
    }
   ],
   "source": [
    "jugarjuego()"
   ]
  }
 ],
 "metadata": {
  "kernelspec": {
   "display_name": "base",
   "language": "python",
   "name": "python3"
  },
  "language_info": {
   "codemirror_mode": {
    "name": "ipython",
    "version": 3
   },
   "file_extension": ".py",
   "mimetype": "text/x-python",
   "name": "python",
   "nbconvert_exporter": "python",
   "pygments_lexer": "ipython3",
   "version": "3.12.4"
  }
 },
 "nbformat": 4,
 "nbformat_minor": 2
}
